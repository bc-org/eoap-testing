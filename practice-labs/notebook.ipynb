{
 "cells": [
  {
   "cell_type": "code",
   "execution_count": 1,
   "metadata": {
    "vscode": {
     "languageId": "shellscript"
    }
   },
   "outputs": [
    {
     "name": "stdout",
     "output_type": "stream",
     "text": [
      "notebook.ipynb\n"
     ]
    }
   ],
   "source": [
    "ls"
   ]
  },
  {
   "cell_type": "code",
   "execution_count": 10,
   "metadata": {
    "vscode": {
     "languageId": "shellscript"
    }
   },
   "outputs": [
    {
     "name": "stdout",
     "output_type": "stream",
     "text": [
      "STEP 1/4: FROM docker.io/python:3.10-slim\n",
      "STEP 2/4: RUN pip install --no-cache-dir     rasterio     click     pystac     loguru     pyproj     shapely     scikit-image     pystac     rio_stac &&     python -c \"import rasterio\"\n",
      "--> Using cache 2229eeb71fdd5507ef51a8bedda1b3c9e46851b257929adc8a88b082e666cab2\n",
      "--> 2229eeb71fd\n",
      "STEP 3/4: ADD app.py /app/app.py\n",
      "--> Using cache 86f108e39ceab2b2cb63458305fc88f116b724e77b159615a68b71046260d567\n",
      "--> 86f108e39ce\n",
      "STEP 4/4: ENTRYPOINT []\n",
      "--> Using cache 08e221f8789251d6491c1c3c63af36b1c23d8e4b4a8b02c964577c9dfe7cbeea\n",
      "COMMIT detect-water-body:latest\n",
      "--> 08e221f8789\n",
      "Successfully tagged localhost/detect-water-body:latest\n",
      "Successfully tagged localhost/water-bodies:latest\n",
      "08e221f8789251d6491c1c3c63af36b1c23d8e4b4a8b02c964577c9dfe7cbeea\n"
     ]
    }
   ],
   "source": [
    "cd /data/work/eoap/quickwin/water-bodies/command-line-tools/detect-water-body\n",
    "\n",
    "podman build -f Dockerfile -t detect-water-body:latest .\n",
    "\n"
   ]
  },
  {
   "cell_type": "code",
   "execution_count": 9,
   "metadata": {
    "vscode": {
     "languageId": "shellscript"
    }
   },
   "outputs": [
    {
     "name": "stdout",
     "output_type": "stream",
     "text": [
      "/data/work/eoap/quickwin/water-bodies/command-line-tools/detect-water-body\n"
     ]
    }
   ],
   "source": [
    "pwd\n"
   ]
  },
  {
   "cell_type": "code",
   "execution_count": 4,
   "metadata": {
    "vscode": {
     "languageId": "shellscript"
    }
   },
   "outputs": [],
   "source": [
    "cd ..\n"
   ]
  },
  {
   "cell_type": "code",
   "execution_count": null,
   "metadata": {
    "vscode": {
     "languageId": "shellscript"
    }
   },
   "outputs": [],
   "source": []
  }
 ],
 "metadata": {
  "kernelspec": {
   "display_name": "Bash",
   "language": "bash",
   "name": "bash"
  },
  "language_info": {
   "codemirror_mode": "shell",
   "file_extension": ".sh",
   "mimetype": "text/x-sh",
   "name": "bash"
  }
 },
 "nbformat": 4,
 "nbformat_minor": 2
}
