{
 "cells": [
  {
   "cell_type": "markdown",
   "metadata": {},
   "source": [
    "## Sentinel-2 Cloud native Workflow\n",
    "\n",
    "### Goal\n",
    "\n",
    "Wrap the CommandLineTool with a CWL Workflow"
   ]
  },
  {
   "cell_type": "markdown",
   "metadata": {},
   "source": [
    "link to documentation: https://eoap.github.io/quickwin/cwl-workflow/cloud-native/"
   ]
  },
  {
   "cell_type": "code",
   "execution_count": null,
   "metadata": {
    "vscode": {
     "languageId": "shellscript"
    }
   },
   "outputs": [],
   "source": [
    "cat ../cwl-workflow/app-water-body-cloud-native.cwl | yq e . -"
   ]
  },
  {
   "cell_type": "markdown",
   "metadata": {},
   "source": [
    "There's a new element `$graph`, it's there to list all classes of the CWL document. In our case, one `Workflow` and one `CommandLineTool`:"
   ]
  },
  {
   "cell_type": "code",
   "execution_count": null,
   "metadata": {
    "vscode": {
     "languageId": "shellscript"
    }
   },
   "outputs": [],
   "source": [
    "cat ../cwl-workflow/app-water-body-cloud-native.cwl | yq e .'$graph[].class' - "
   ]
  },
  {
   "cell_type": "markdown",
   "metadata": {},
   "source": [
    "Let's inspect the `Workflow` element keys:"
   ]
  },
  {
   "cell_type": "code",
   "execution_count": null,
   "metadata": {
    "vscode": {
     "languageId": "shellscript"
    }
   },
   "outputs": [],
   "source": [
    "cat ../cwl-workflow/app-water-body-cloud-native.cwl | yq e .'$graph[0] | keys' - "
   ]
  },
  {
   "cell_type": "markdown",
   "metadata": {},
   "source": [
    "The Workflow must have an `id`, a `label` and a `doc`:"
   ]
  },
  {
   "cell_type": "code",
   "execution_count": null,
   "metadata": {
    "vscode": {
     "languageId": "shellscript"
    }
   },
   "outputs": [],
   "source": [
    "cat ../cwl-workflow/app-water-body-cloud-native.cwl | yq e .'$graph[0] | {\"id\": .id, \"label\": .label, \"doc\": .doc }' - "
   ]
  },
  {
   "cell_type": "markdown",
   "metadata": {},
   "source": [
    "The `inputs` mapping defines all the workflow inputs. \n",
    "\n",
    "These are then mapped to the CommandLineTool in the `step` mapping"
   ]
  },
  {
   "cell_type": "code",
   "execution_count": null,
   "metadata": {
    "vscode": {
     "languageId": "shellscript"
    }
   },
   "outputs": [],
   "source": [
    "cat ../cwl-workflow/app-water-body-cloud-native.cwl | yq e .'$graph[0].inputs' - "
   ]
  },
  {
   "cell_type": "markdown",
   "metadata": {},
   "source": [
    "The `steps` mapping defines a single step `node_detect` that runs the CWL element with id `detect-water-body`"
   ]
  },
  {
   "cell_type": "code",
   "execution_count": null,
   "metadata": {
    "vscode": {
     "languageId": "shellscript"
    }
   },
   "outputs": [],
   "source": [
    "cat ../cwl-workflow/app-water-body-cloud-native.cwl | yq e .'$graph[0].steps' - "
   ]
  },
  {
   "cell_type": "code",
   "execution_count": null,
   "metadata": {
    "vscode": {
     "languageId": "shellscript"
    }
   },
   "outputs": [],
   "source": [
    "cat ../cwl-workflow/app-water-body-cloud-native.cwl | yq e .'$graph[0].steps.node_detect.run' - "
   ]
  },
  {
   "cell_type": "markdown",
   "metadata": {},
   "source": [
    "The mapping between the Workflow class inputs and the CommandLineTool inputs is done in the `in` dictionary: "
   ]
  },
  {
   "cell_type": "code",
   "execution_count": null,
   "metadata": {
    "vscode": {
     "languageId": "shellscript"
    }
   },
   "outputs": [],
   "source": [
    "cat ../cwl-workflow/app-water-body-cloud-native.cwl | yq e .'$graph[0].steps.node_detect.in' - "
   ]
  },
  {
   "cell_type": "markdown",
   "metadata": {},
   "source": [
    "Finally the outputs are defined with:\n",
    "\n",
    "- an `id` \n",
    "- an `outputSource` that is linked to the CommandLineTool output\n",
    "- a `type`, the same as the CommandLineTool output type"
   ]
  },
  {
   "cell_type": "code",
   "execution_count": null,
   "metadata": {
    "vscode": {
     "languageId": "shellscript"
    }
   },
   "outputs": [],
   "source": [
    "cat ../cwl-workflow/app-water-body-cloud-native.cwl | yq e .'$graph[0].outputs' - "
   ]
  },
  {
   "cell_type": "code",
   "execution_count": null,
   "metadata": {
    "vscode": {
     "languageId": "shellscript"
    }
   },
   "outputs": [],
   "source": [
    "cat ../cwl-workflow/app-water-body-cloud-native.cwl | yq e .'$graph[1].outputs' - "
   ]
  },
  {
   "cell_type": "code",
   "execution_count": null,
   "metadata": {
    "vscode": {
     "languageId": "shellscript"
    }
   },
   "outputs": [],
   "source": [
    "cat ../cwl-workflow/app-water-body-cloud-native.cwl | yq e .'$graph[1].outputs.stac-catalog.type' - "
   ]
  },
  {
   "cell_type": "code",
   "execution_count": null,
   "metadata": {
    "vscode": {
     "languageId": "shellscript"
    }
   },
   "outputs": [],
   "source": []
  }
 ],
 "metadata": {
  "kernelspec": {
   "display_name": "Bash",
   "language": "bash",
   "name": "bash"
  },
  "language_info": {
   "codemirror_mode": "shell",
   "file_extension": ".sh",
   "mimetype": "text/x-sh",
   "name": "bash"
  }
 },
 "nbformat": 4,
 "nbformat_minor": 2
}
