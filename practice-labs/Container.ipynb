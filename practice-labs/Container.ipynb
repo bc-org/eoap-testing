{
 "cells": [
  {
   "cell_type": "markdown",
   "metadata": {},
   "source": [
    "## Build and test the container \n",
    "\n",
    "This notebook builds and tests the container with the Python command line tool."
   ]
  },
  {
   "cell_type": "markdown",
   "metadata": {},
   "source": [
    "Link to doc: https://eoap.github.io/quickwin/containers/water_bodies/"
   ]
  },
  {
   "cell_type": "markdown",
   "metadata": {},
   "source": [
    "Recreate the app.py file as it going to be copied to the container:"
   ]
  },
  {
   "cell_type": "code",
   "execution_count": null,
   "metadata": {
    "vscode": {
     "languageId": "shellscript"
    }
   },
   "outputs": [],
   "source": [
    "cat << EOF > app.py\n",
    "import os\n",
    "import click\n",
    "import pystac\n",
    "import rasterio\n",
    "from skimage.filters import threshold_otsu\n",
    "from rasterio.mask import mask\n",
    "from pyproj import Transformer\n",
    "from shapely import box\n",
    "from loguru import logger\n",
    "import rasterio\n",
    "import pystac\n",
    "import shutil\n",
    "import rio_stac\n",
    "import numpy as np\n",
    "\n",
    "np.seterr(divide=\"ignore\", invalid=\"ignore\")\n",
    "\n",
    "\n",
    "def crop(asset: pystac.Asset, bbox, epsg):\n",
    "    \"\"\"_summary_\n",
    "\n",
    "    Args:\n",
    "        asset (_type_): _description_\n",
    "        bbox (_type_): _description_\n",
    "        epsg (_type_): _description_\n",
    "\n",
    "    Returns:\n",
    "        _type_: _description_\n",
    "    \"\"\"\n",
    "    with rasterio.open(asset.get_absolute_href()) as src:\n",
    "        transformer = Transformer.from_crs(epsg, src.crs, always_xy=True)\n",
    "\n",
    "        minx, miny = transformer.transform(bbox[0], bbox[1])\n",
    "        maxx, maxy = transformer.transform(bbox[2], bbox[3])\n",
    "\n",
    "        transformed_bbox = box(minx, miny, maxx, maxy)\n",
    "\n",
    "        logger.info(f\"Crop {asset.get_absolute_href()}\")\n",
    "\n",
    "        out_image, out_transform = rasterio.mask.mask(\n",
    "            src, [transformed_bbox], crop=True\n",
    "        )\n",
    "        out_meta = src.meta.copy()\n",
    "\n",
    "        out_meta.update(\n",
    "            {\n",
    "                \"height\": out_image.shape[1],\n",
    "                \"width\": out_image.shape[2],\n",
    "                \"transform\": out_transform,\n",
    "            }\n",
    "        )\n",
    "\n",
    "        return out_image.astype(np.float32), out_meta\n",
    "\n",
    "\n",
    "def threshold(data):\n",
    "    \"\"\"Returns the Otsu threshold of a numpy array\"\"\"\n",
    "    return data > threshold_otsu(data[np.isfinite(data)])\n",
    "\n",
    "\n",
    "def normalized_difference(array1, array2):\n",
    "    \"\"\"Returns the normalized difference of two numpy arrays\"\"\"\n",
    "    return (array1 - array2) / (array1 + array2)\n",
    "\n",
    "\n",
    "def aoi2box(aoi):\n",
    "    \"\"\"Converts an area of interest expressed as a bounding box to a list of floats\"\"\"\n",
    "    return [float(c) for c in aoi.split(\",\")]\n",
    "\n",
    "\n",
    "def get_asset(item, common_name):\n",
    "    \"\"\"Returns the asset of a STAC Item defined with its common band name\"\"\"\n",
    "    for _, asset in item.get_assets().items():\n",
    "        if not \"data\" in asset.to_dict()[\"roles\"]:\n",
    "            continue\n",
    "\n",
    "        eo_asset = pystac.extensions.eo.AssetEOExtension(asset)\n",
    "        if not eo_asset.bands:\n",
    "            continue\n",
    "        for b in eo_asset.bands:\n",
    "            if (\n",
    "                \"common_name\" in b.properties.keys()\n",
    "                and b.properties[\"common_name\"] == common_name\n",
    "            ):\n",
    "                return asset\n",
    "\n",
    "\n",
    "@click.command(\n",
    "    short_help=\"Water bodies detection\",\n",
    "    help=\"Detects water bodies using the Normalized Difference Water Index (NDWI) and Otsu thresholding.\",\n",
    ")\n",
    "@click.option(\n",
    "    \"--input-item\",\n",
    "    \"item_url\",\n",
    "    help=\"STAC Item URL or staged STAC catalog\",\n",
    "    required=True,\n",
    ")\n",
    "@click.option(\n",
    "    \"--aoi\",\n",
    "    \"aoi\",\n",
    "    help=\"Area of interest expressed as a bounding box\",\n",
    "    required=True,\n",
    ")\n",
    "@click.option(\n",
    "    \"--epsg\",\n",
    "    \"epsg\",\n",
    "    help=\"EPSG code\",\n",
    "    required=True,\n",
    ")\n",
    "@click.option(\n",
    "    \"--band\",\n",
    "    \"bands\",\n",
    "    help=\"Common band name\",\n",
    "    required=True,\n",
    "    multiple=True,\n",
    ")\n",
    "def main(item_url, aoi, bands, epsg):\n",
    "    if os.path.isdir(item_url):\n",
    "        catalog = pystac.read_file(os.path.join(item_url, \"catalog.json\"))\n",
    "        item = next(catalog.get_items())\n",
    "    else:\n",
    "        item = pystac.read_file(item_url)\n",
    "\n",
    "    logger.info(f\"Read {item.id} from {item.get_self_href()}\")\n",
    "\n",
    "    cropped_assets = {}\n",
    "\n",
    "    for band in bands:\n",
    "        asset = get_asset(item, band)\n",
    "        logger.info(f\"Read asset {band} from {asset.get_absolute_href()}\")\n",
    "\n",
    "        if not asset:\n",
    "            msg = f\"Common band name {band} not found in the assets\"\n",
    "            logger.error(msg)\n",
    "            raise ValueError(msg)\n",
    "\n",
    "        bbox = aoi2box(aoi)\n",
    "\n",
    "        out_image, out_meta = crop(asset, bbox, epsg)\n",
    "\n",
    "        cropped_assets[band] = out_image[0]\n",
    "\n",
    "    nd = normalized_difference(cropped_assets[bands[0]], cropped_assets[bands[1]])\n",
    "\n",
    "    water_bodies = threshold(nd)\n",
    "\n",
    "    out_meta.update(\n",
    "        {\n",
    "            \"dtype\": \"uint8\",\n",
    "            \"driver\": \"COG\",\n",
    "            \"tiled\": True,\n",
    "            \"compress\": \"lzw\",\n",
    "            \"blockxsize\": 256,\n",
    "            \"blockysize\": 256,\n",
    "        }\n",
    "    )\n",
    "\n",
    "    water_body = \"otsu.tif\"\n",
    "\n",
    "    with rasterio.open(water_body, \"w\", **out_meta) as dst_dataset:\n",
    "        logger.info(f\"Write otsu.tif\")\n",
    "        dst_dataset.write(water_bodies, indexes=1)\n",
    "\n",
    "    logger.info(f\"Creating a STAC Catalog\")\n",
    "    cat = pystac.Catalog(id=\"catalog\", description=\"water-bodies\")\n",
    "\n",
    "    if os.path.isdir(item_url):\n",
    "        catalog = pystac.read_file(os.path.join(item_url, \"catalog.json\"))\n",
    "        item = next(catalog.get_items())\n",
    "    else:\n",
    "        item = pystac.read_file(item_url)\n",
    "\n",
    "    os.makedirs(item.id, exist_ok=True)\n",
    "    shutil.copy(water_body, item.id)\n",
    "\n",
    "    out_item = rio_stac.stac.create_stac_item(\n",
    "        source=water_body,\n",
    "        input_datetime=item.datetime,\n",
    "        id=item.id,\n",
    "        asset_roles=[\"data\", \"visual\"],\n",
    "        asset_href=os.path.basename(water_body),\n",
    "        asset_name=\"data\",\n",
    "        with_proj=True,\n",
    "        with_raster=False,\n",
    "    )\n",
    "\n",
    "    cat.add_items([out_item])\n",
    "\n",
    "    cat.normalize_and_save(\n",
    "        root_href=\"./\", catalog_type=pystac.CatalogType.SELF_CONTAINED\n",
    "    )\n",
    "\n",
    "    logger.info(\"Done!\")\n",
    "\n",
    "\n",
    "if __name__ == \"__main__\":\n",
    "    main()\n",
    "EOF"
   ]
  },
  {
   "cell_type": "markdown",
   "metadata": {},
   "source": [
    "Recreate the Dockerfile:"
   ]
  },
  {
   "cell_type": "code",
   "execution_count": null,
   "metadata": {
    "vscode": {
     "languageId": "shellscript"
    }
   },
   "outputs": [],
   "source": [
    "cat << EOF  > Dockerfile\n",
    "\n",
    "FROM docker.io/python:3.10-slim\n",
    "\n",
    "RUN pip install --no-cache-dir \\\n",
    "    rasterio \\\n",
    "    click \\\n",
    "    pystac \\\n",
    "    loguru \\\n",
    "    pyproj \\\n",
    "    shapely \\\n",
    "    scikit-image \\\n",
    "    pystac \\\n",
    "    rio_stac && \\\n",
    "    python -c \"import rasterio\"\n",
    "\n",
    "ADD app.py /app/app.py\n",
    "\n",
    "ENTRYPOINT []\n",
    "\n",
    "EOF"
   ]
  },
  {
   "cell_type": "markdown",
   "metadata": {},
   "source": [
    "Use podman to build the container:"
   ]
  },
  {
   "cell_type": "code",
   "execution_count": null,
   "metadata": {
    "vscode": {
     "languageId": "shellscript"
    }
   },
   "outputs": [],
   "source": [
    "podman build --format docker -t localhost/detect-water-body:latest ."
   ]
  },
  {
   "cell_type": "markdown",
   "metadata": {},
   "source": [
    "List the container images and get the one just built:"
   ]
  },
  {
   "cell_type": "code",
   "execution_count": null,
   "metadata": {
    "vscode": {
     "languageId": "shellscript"
    }
   },
   "outputs": [],
   "source": [
    "podman images | grep \"detect-water-body\""
   ]
  },
  {
   "cell_type": "markdown",
   "metadata": {},
   "source": [
    "Print the Python command line tool help (it's part of the test):"
   ]
  },
  {
   "cell_type": "code",
   "execution_count": null,
   "metadata": {
    "vscode": {
     "languageId": "shellscript"
    }
   },
   "outputs": [],
   "source": [
    "podman run --rm -it --env=PYTHONPATH=/app localhost/detect-water-body python -m app --help"
   ]
  },
  {
   "cell_type": "markdown",
   "metadata": {},
   "source": [
    "Now the final test, run the Python command line tool with all the arguments:"
   ]
  },
  {
   "cell_type": "code",
   "execution_count": null,
   "metadata": {
    "vscode": {
     "languageId": "shellscript"
    }
   },
   "outputs": [],
   "source": [
    "mkdir -p /workspace/quickwin/runs"
   ]
  },
  {
   "cell_type": "code",
   "execution_count": null,
   "metadata": {
    "vscode": {
     "languageId": "shellscript"
    }
   },
   "outputs": [],
   "source": [
    "podman run \\\n",
    "    -i \\\n",
    "    --userns=keep-id \\\n",
    "    --mount=type=bind,source=/workspace/quickwin/runs,target=/runs \\\n",
    "    --workdir=/runs \\\n",
    "    --read-only=true \\\n",
    "    --user=1001:100 \\\n",
    "    --rm \\\n",
    "    --env=HOME=/runs \\\n",
    "    --env=PYTHONPATH=/app \\\n",
    "    localhost/detect-water-body:latest \\\n",
    "    python \\\n",
    "    -m \\\n",
    "    app \\\n",
    "    --aoi \\\n",
    "    \"-121.399,39.834,-120.74,40.472\" \\\n",
    "    --band \\\n",
    "    green \\\n",
    "    --band \\\n",
    "    nir \\\n",
    "    --epsg \\\n",
    "    \"EPSG:4326\" \\\n",
    "    --input-item \\\n",
    "    https://earth-search.aws.element84.com/v0/collections/sentinel-s2-l2a-cogs/items/S2B_10TFK_20210713_0_L2A\n"
   ]
  },
  {
   "cell_type": "markdown",
   "metadata": {},
   "source": [
    "Use stac tools to inspect the generated STAC Catalog:"
   ]
  },
  {
   "cell_type": "code",
   "execution_count": null,
   "metadata": {
    "vscode": {
     "languageId": "shellscript"
    }
   },
   "outputs": [],
   "source": [
    "stac describe /workspace/quickwin/runs/catalog.json"
   ]
  },
  {
   "cell_type": "code",
   "execution_count": null,
   "metadata": {
    "vscode": {
     "languageId": "shellscript"
    }
   },
   "outputs": [],
   "source": []
  }
 ],
 "metadata": {
  "kernelspec": {
   "display_name": "Bash",
   "language": "bash",
   "name": "bash"
  },
  "language_info": {
   "codemirror_mode": "shell",
   "file_extension": ".sh",
   "mimetype": "text/x-sh",
   "name": "bash"
  }
 },
 "nbformat": 4,
 "nbformat_minor": 2
}
