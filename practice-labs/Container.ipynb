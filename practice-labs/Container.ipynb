{
 "cells": [
  {
   "cell_type": "code",
   "execution_count": null,
   "metadata": {
    "vscode": {
     "languageId": "shellscript"
    }
   },
   "outputs": [],
   "source": []
  },
  {
   "cell_type": "markdown",
   "metadata": {},
   "source": [
    "Link to doc: https://eoap.github.io/quickwin/containers/water_bodies/"
   ]
  },
  {
   "cell_type": "code",
   "execution_count": 2,
   "metadata": {
    "vscode": {
     "languageId": "shellscript"
    }
   },
   "outputs": [],
   "source": [
    "cat << EOF > app.py\n",
    "import os\n",
    "import click\n",
    "import pystac\n",
    "import rasterio\n",
    "from skimage.filters import threshold_otsu\n",
    "from rasterio.mask import mask\n",
    "from pyproj import Transformer\n",
    "from shapely import box\n",
    "from loguru import logger\n",
    "import rasterio\n",
    "import pystac\n",
    "import shutil\n",
    "import rio_stac\n",
    "import numpy as np\n",
    "\n",
    "np.seterr(divide=\"ignore\", invalid=\"ignore\")\n",
    "\n",
    "\n",
    "def crop(asset: pystac.Asset, bbox, epsg):\n",
    "    \"\"\"_summary_\n",
    "\n",
    "    Args:\n",
    "        asset (_type_): _description_\n",
    "        bbox (_type_): _description_\n",
    "        epsg (_type_): _description_\n",
    "\n",
    "    Returns:\n",
    "        _type_: _description_\n",
    "    \"\"\"\n",
    "    with rasterio.open(asset.get_absolute_href()) as src:\n",
    "        transformer = Transformer.from_crs(epsg, src.crs, always_xy=True)\n",
    "\n",
    "        minx, miny = transformer.transform(bbox[0], bbox[1])\n",
    "        maxx, maxy = transformer.transform(bbox[2], bbox[3])\n",
    "\n",
    "        transformed_bbox = box(minx, miny, maxx, maxy)\n",
    "\n",
    "        logger.info(f\"Crop {asset.get_absolute_href()}\")\n",
    "\n",
    "        out_image, out_transform = rasterio.mask.mask(\n",
    "            src, [transformed_bbox], crop=True\n",
    "        )\n",
    "        out_meta = src.meta.copy()\n",
    "\n",
    "        out_meta.update(\n",
    "            {\n",
    "                \"height\": out_image.shape[1],\n",
    "                \"width\": out_image.shape[2],\n",
    "                \"transform\": out_transform,\n",
    "            }\n",
    "        )\n",
    "\n",
    "        return out_image.astype(np.float32), out_meta\n",
    "\n",
    "\n",
    "def threshold(data):\n",
    "    \"\"\"Returns the Otsu threshold of a numpy array\"\"\"\n",
    "    return data > threshold_otsu(data[np.isfinite(data)])\n",
    "\n",
    "\n",
    "def normalized_difference(array1, array2):\n",
    "    \"\"\"Returns the normalized difference of two numpy arrays\"\"\"\n",
    "    return (array1 - array2) / (array1 + array2)\n",
    "\n",
    "\n",
    "def aoi2box(aoi):\n",
    "    \"\"\"Converts an area of interest expressed as a bounding box to a list of floats\"\"\"\n",
    "    return [float(c) for c in aoi.split(\",\")]\n",
    "\n",
    "\n",
    "def get_asset(item, common_name):\n",
    "    \"\"\"Returns the asset of a STAC Item defined with its common band name\"\"\"\n",
    "    for _, asset in item.get_assets().items():\n",
    "        if not \"data\" in asset.to_dict()[\"roles\"]:\n",
    "            continue\n",
    "\n",
    "        eo_asset = pystac.extensions.eo.AssetEOExtension(asset)\n",
    "        if not eo_asset.bands:\n",
    "            continue\n",
    "        for b in eo_asset.bands:\n",
    "            if (\n",
    "                \"common_name\" in b.properties.keys()\n",
    "                and b.properties[\"common_name\"] == common_name\n",
    "            ):\n",
    "                return asset\n",
    "\n",
    "\n",
    "@click.command(\n",
    "    short_help=\"Water bodies detection\",\n",
    "    help=\"Detects water bodies using the Normalized Difference Water Index (NDWI) and Otsu thresholding.\",\n",
    ")\n",
    "@click.option(\n",
    "    \"--input-item\",\n",
    "    \"item_url\",\n",
    "    help=\"STAC Item URL or staged STAC catalog\",\n",
    "    required=True,\n",
    ")\n",
    "@click.option(\n",
    "    \"--aoi\",\n",
    "    \"aoi\",\n",
    "    help=\"Area of interest expressed as a bounding box\",\n",
    "    required=True,\n",
    ")\n",
    "@click.option(\n",
    "    \"--epsg\",\n",
    "    \"epsg\",\n",
    "    help=\"EPSG code\",\n",
    "    required=True,\n",
    ")\n",
    "@click.option(\n",
    "    \"--band\",\n",
    "    \"bands\",\n",
    "    help=\"Common band name\",\n",
    "    required=True,\n",
    "    multiple=True,\n",
    ")\n",
    "def main(item_url, aoi, bands, epsg):\n",
    "    if os.path.isdir(item_url):\n",
    "        catalog = pystac.read_file(os.path.join(item_url, \"catalog.json\"))\n",
    "        item = next(catalog.get_items())\n",
    "    else:\n",
    "        item = pystac.read_file(item_url)\n",
    "\n",
    "    logger.info(f\"Read {item.id} from {item.get_self_href()}\")\n",
    "\n",
    "    cropped_assets = {}\n",
    "\n",
    "    for band in bands:\n",
    "        asset = get_asset(item, band)\n",
    "        logger.info(f\"Read asset {band} from {asset.get_absolute_href()}\")\n",
    "\n",
    "        if not asset:\n",
    "            msg = f\"Common band name {band} not found in the assets\"\n",
    "            logger.error(msg)\n",
    "            raise ValueError(msg)\n",
    "\n",
    "        bbox = aoi2box(aoi)\n",
    "\n",
    "        out_image, out_meta = crop(asset, bbox, epsg)\n",
    "\n",
    "        cropped_assets[band] = out_image[0]\n",
    "\n",
    "    nd = normalized_difference(cropped_assets[bands[0]], cropped_assets[bands[1]])\n",
    "\n",
    "    water_bodies = threshold(nd)\n",
    "\n",
    "    out_meta.update(\n",
    "        {\n",
    "            \"dtype\": \"uint8\",\n",
    "            \"driver\": \"COG\",\n",
    "            \"tiled\": True,\n",
    "            \"compress\": \"lzw\",\n",
    "            \"blockxsize\": 256,\n",
    "            \"blockysize\": 256,\n",
    "        }\n",
    "    )\n",
    "\n",
    "    water_body = \"otsu.tif\"\n",
    "\n",
    "    with rasterio.open(water_body, \"w\", **out_meta) as dst_dataset:\n",
    "        logger.info(f\"Write otsu.tif\")\n",
    "        dst_dataset.write(water_bodies, indexes=1)\n",
    "\n",
    "    logger.info(f\"Creating a STAC Catalog\")\n",
    "    cat = pystac.Catalog(id=\"catalog\", description=\"water-bodies\")\n",
    "\n",
    "    if os.path.isdir(item_url):\n",
    "        catalog = pystac.read_file(os.path.join(item_url, \"catalog.json\"))\n",
    "        item = next(catalog.get_items())\n",
    "    else:\n",
    "        item = pystac.read_file(item_url)\n",
    "\n",
    "    os.makedirs(item.id, exist_ok=True)\n",
    "    shutil.copy(water_body, item.id)\n",
    "\n",
    "    out_item = rio_stac.stac.create_stac_item(\n",
    "        source=water_body,\n",
    "        input_datetime=item.datetime,\n",
    "        id=item.id,\n",
    "        asset_roles=[\"data\", \"visual\"],\n",
    "        asset_href=os.path.basename(water_body),\n",
    "        asset_name=\"data\",\n",
    "        with_proj=True,\n",
    "        with_raster=False,\n",
    "    )\n",
    "\n",
    "    cat.add_items([out_item])\n",
    "\n",
    "    cat.normalize_and_save(\n",
    "        root_href=\"./\", catalog_type=pystac.CatalogType.SELF_CONTAINED\n",
    "    )\n",
    "\n",
    "    logger.info(\"Done!\")\n",
    "\n",
    "\n",
    "if __name__ == \"__main__\":\n",
    "    main()\n",
    "EOF"
   ]
  },
  {
   "cell_type": "code",
   "execution_count": 4,
   "metadata": {
    "vscode": {
     "languageId": "shellscript"
    }
   },
   "outputs": [],
   "source": [
    "cat << EOF  > Dockerfile\n",
    "\n",
    "FROM docker.io/python:3.10-slim\n",
    "\n",
    "RUN pip install --no-cache-dir \\\n",
    "    rasterio \\\n",
    "    click \\\n",
    "    pystac \\\n",
    "    loguru \\\n",
    "    pyproj \\\n",
    "    shapely \\\n",
    "    scikit-image \\\n",
    "    pystac \\\n",
    "    rio_stac && \\\n",
    "    python -c \"import rasterio\"\n",
    "\n",
    "ADD app.py /app/app.py\n",
    "\n",
    "ENTRYPOINT []\n",
    "\n",
    "EOF"
   ]
  },
  {
   "cell_type": "code",
   "execution_count": 7,
   "metadata": {
    "vscode": {
     "languageId": "shellscript"
    }
   },
   "outputs": [
    {
     "name": "stdout",
     "output_type": "stream",
     "text": [
      "STEP 1/4: FROM docker.io/python:3.10-slim\n",
      "STEP 2/4: RUN pip install --no-cache-dir     rasterio     click     pystac     loguru     pyproj     shapely     scikit-image     pystac     rio_stac &&     python -c \"import rasterio\"\n",
      "Collecting rasterio\n",
      "  Downloading rasterio-1.3.9-cp310-cp310-manylinux2014_x86_64.whl (20.6 MB)\n",
      "     ━━━━━━━━━━━━━━━━━━━━━━━━━━━━━━━━━━━━━━━━ 20.6/20.6 MB 11.2 MB/s eta 0:00:00\n",
      "Collecting click\n",
      "  Downloading click-8.1.7-py3-none-any.whl (97 kB)\n",
      "     ━━━━━━━━━━━━━━━━━━━━━━━━━━━━━━━━━━━━━━━━ 97.9/97.9 kB 14.0 MB/s eta 0:00:00\n",
      "Collecting pystac\n",
      "  Downloading pystac-1.10.0-py3-none-any.whl (182 kB)\n",
      "     ━━━━━━━━━━━━━━━━━━━━━━━━━━━━━━━━━━━━━━ 182.9/182.9 kB 11.9 MB/s eta 0:00:00\n",
      "Collecting loguru\n",
      "  Downloading loguru-0.7.2-py3-none-any.whl (62 kB)\n",
      "     ━━━━━━━━━━━━━━━━━━━━━━━━━━━━━━━━━━━━━━━━ 62.5/62.5 kB 39.6 MB/s eta 0:00:00\n",
      "Collecting pyproj\n",
      "  Downloading pyproj-3.6.1-cp310-cp310-manylinux_2_17_x86_64.manylinux2014_x86_64.whl (8.3 MB)\n",
      "     ━━━━━━━━━━━━━━━━━━━━━━━━━━━━━━━━━━━━━━━━ 8.3/8.3 MB 10.9 MB/s eta 0:00:00\n",
      "Collecting shapely\n",
      "  Downloading shapely-2.0.3-cp310-cp310-manylinux_2_17_x86_64.manylinux2014_x86_64.whl (2.5 MB)\n",
      "     ━━━━━━━━━━━━━━━━━━━━━━━━━━━━━━━━━━━━━━━━ 2.5/2.5 MB 10.8 MB/s eta 0:00:00\n",
      "Collecting scikit-image\n",
      "  Downloading scikit_image-0.22.0-cp310-cp310-manylinux_2_17_x86_64.manylinux2014_x86_64.whl (14.7 MB)\n",
      "     ━━━━━━━━━━━━━━━━━━━━━━━━━━━━━━━━━━━━━━━━ 14.7/14.7 MB 9.9 MB/s eta 0:00:00\n",
      "Collecting rio_stac\n",
      "  Downloading rio_stac-0.9.0-py3-none-any.whl (11 kB)\n",
      "Collecting affine\n",
      "  Downloading affine-2.4.0-py3-none-any.whl (15 kB)\n",
      "Collecting snuggs>=1.4.1\n",
      "  Downloading snuggs-1.4.7-py3-none-any.whl (5.4 kB)\n",
      "Collecting attrs\n",
      "  Downloading attrs-23.2.0-py3-none-any.whl (60 kB)\n",
      "     ━━━━━━━━━━━━━━━━━━━━━━━━━━━━━━━━━━━━━━━━ 60.8/60.8 kB 10.1 MB/s eta 0:00:00\n",
      "Collecting numpy\n",
      "  Downloading numpy-1.26.4-cp310-cp310-manylinux_2_17_x86_64.manylinux2014_x86_64.whl (18.2 MB)\n",
      "     ━━━━━━━━━━━━━━━━━━━━━━━━━━━━━━━━━━━━━━━━ 18.2/18.2 MB 11.1 MB/s eta 0:00:00\n",
      "Collecting click-plugins\n",
      "  Downloading click_plugins-1.1.1-py2.py3-none-any.whl (7.5 kB)\n",
      "Collecting certifi\n",
      "  Downloading certifi-2024.2.2-py3-none-any.whl (163 kB)\n",
      "     ━━━━━━━━━━━━━━━━━━━━━━━━━━━━━━━━━━━━━━ 163.8/163.8 kB 12.9 MB/s eta 0:00:00\n",
      "Collecting cligj>=0.5\n",
      "  Downloading cligj-0.7.2-py3-none-any.whl (7.1 kB)\n",
      "Requirement already satisfied: setuptools in /usr/local/lib/python3.10/site-packages (from rasterio) (65.5.1)\n",
      "Collecting python-dateutil>=2.7.0\n",
      "  Downloading python_dateutil-2.9.0.post0-py2.py3-none-any.whl (229 kB)\n",
      "     ━━━━━━━━━━━━━━━━━━━━━━━━━━━━━━━━━━━━━━ 229.9/229.9 kB 11.6 MB/s eta 0:00:00\n",
      "Collecting imageio>=2.27\n",
      "  Downloading imageio-2.34.0-py3-none-any.whl (313 kB)\n",
      "     ━━━━━━━━━━━━━━━━━━━━━━━━━━━━━━━━━━━━━━ 313.4/313.4 kB 12.4 MB/s eta 0:00:00\n",
      "Collecting pillow>=9.0.1\n",
      "  Downloading pillow-10.3.0-cp310-cp310-manylinux_2_28_x86_64.whl (4.5 MB)\n",
      "     ━━━━━━━━━━━━━━━━━━━━━━━━━━━━━━━━━━━━━━━━ 4.5/4.5 MB 11.1 MB/s eta 0:00:00\n",
      "Collecting lazy_loader>=0.3\n",
      "  Downloading lazy_loader-0.4-py3-none-any.whl (12 kB)\n",
      "Collecting networkx>=2.8\n",
      "  Downloading networkx-3.3-py3-none-any.whl (1.7 MB)\n",
      "     ━━━━━━━━━━━━━━━━━━━━━━━━━━━━━━━━━━━━━━━━ 1.7/1.7 MB 11.0 MB/s eta 0:00:00\n",
      "Collecting tifffile>=2022.8.12\n",
      "  Downloading tifffile-2024.2.12-py3-none-any.whl (224 kB)\n",
      "     ━━━━━━━━━━━━━━━━━━━━━━━━━━━━━━━━━━━━━━ 224.5/224.5 kB 13.8 MB/s eta 0:00:00\n",
      "Collecting packaging>=21\n",
      "  Downloading packaging-24.0-py3-none-any.whl (53 kB)\n",
      "     ━━━━━━━━━━━━━━━━━━━━━━━━━━━━━━━━━━━━━━━━ 53.5/53.5 kB 14.0 MB/s eta 0:00:00\n",
      "Collecting scipy>=1.8\n",
      "  Downloading scipy-1.13.0-cp310-cp310-manylinux_2_17_x86_64.manylinux2014_x86_64.whl (38.6 MB)\n",
      "     ━━━━━━━━━━━━━━━━━━━━━━━━━━━━━━━━━━━━━━━━ 38.6/38.6 MB 10.9 MB/s eta 0:00:00\n",
      "Collecting six>=1.5\n",
      "  Downloading six-1.16.0-py2.py3-none-any.whl (11 kB)\n",
      "Collecting pyparsing>=2.1.6\n",
      "  Downloading pyparsing-3.1.2-py3-none-any.whl (103 kB)\n",
      "     ━━━━━━━━━━━━━━━━━━━━━━━━━━━━━━━━━━━━━━ 103.2/103.2 kB 15.8 MB/s eta 0:00:00\n",
      "Installing collected packages: six, pyparsing, pillow, packaging, numpy, networkx, loguru, click, certifi, attrs, affine, tifffile, snuggs, shapely, scipy, python-dateutil, pyproj, lazy_loader, imageio, cligj, click-plugins, scikit-image, rasterio, pystac, rio_stac\n",
      "Successfully installed affine-2.4.0 attrs-23.2.0 certifi-2024.2.2 click-8.1.7 click-plugins-1.1.1 cligj-0.7.2 imageio-2.34.0 lazy_loader-0.4 loguru-0.7.2 networkx-3.3 numpy-1.26.4 packaging-24.0 pillow-10.3.0 pyparsing-3.1.2 pyproj-3.6.1 pystac-1.10.0 python-dateutil-2.9.0.post0 rasterio-1.3.9 rio_stac-0.9.0 scikit-image-0.22.0 scipy-1.13.0 shapely-2.0.3 six-1.16.0 snuggs-1.4.7 tifffile-2024.2.12\n",
      "WARNING: Running pip as the 'root' user can result in broken permissions and conflicting behaviour with the system package manager. It is recommended to use a virtual environment instead: https://pip.pypa.io/warnings/venv\n",
      "\n",
      "[notice] A new release of pip is available: 23.0.1 -> 24.0\n",
      "[notice] To update, run: pip install --upgrade pip\n",
      "--> 2d3c0fa52a0\n",
      "STEP 3/4: ADD app.py /app/app.py\n",
      "--> 46aa6cb997f\n",
      "STEP 4/4: ENTRYPOINT []\n",
      "COMMIT localhost/detect-water-body:latest\n",
      "--> 47dbb8bc082\n",
      "Successfully tagged localhost/detect-water-body:latest\n",
      "47dbb8bc0828fc07fde9be00f4b35ff54374f7696130a934023de74d801644b7\n"
     ]
    }
   ],
   "source": [
    "podman build --format docker -t localhost/detect-water-body:latest ."
   ]
  },
  {
   "cell_type": "code",
   "execution_count": 10,
   "metadata": {
    "vscode": {
     "languageId": "shellscript"
    }
   },
   "outputs": [
    {
     "name": "stdout",
     "output_type": "stream",
     "text": [
      "localhost/\u001b[01;31m\u001b[Kdetect-water-body\u001b[m\u001b[K  latest            47dbb8bc0828  7 minutes ago  530 MB\n"
     ]
    }
   ],
   "source": [
    "podman images | grep \"detect-water-body\""
   ]
  },
  {
   "cell_type": "code",
   "execution_count": 13,
   "metadata": {
    "vscode": {
     "languageId": "shellscript"
    }
   },
   "outputs": [
    {
     "name": "stdout",
     "output_type": "stream",
     "text": [
      "Usage: app.py [OPTIONS]\n",
      "\n",
      "  Detects water bodies using the Normalized Difference Water Index (NDWI) and\n",
      "  Otsu thresholding.\n",
      "\n",
      "Options:\n",
      "  --input-item TEXT  STAC Item URL or staged STAC catalog  [required]\n",
      "  --aoi TEXT         Area of interest expressed as a bounding box  [required]\n",
      "  --epsg TEXT        EPSG code  [required]\n",
      "  --band TEXT        Common band name  [required]\n",
      "  --help             Show this message and exit.\n"
     ]
    }
   ],
   "source": [
    "podman run --rm -it --env=PYTHONPATH=/app localhost/detect-water-body python -m app --help"
   ]
  },
  {
   "cell_type": "code",
   "execution_count": 14,
   "metadata": {
    "vscode": {
     "languageId": "shellscript"
    }
   },
   "outputs": [
    {
     "name": "stdout",
     "output_type": "stream",
     "text": [
      "Error: statfs /workspace/quickwin/runs: no such file or directory\n"
     ]
    },
    {
     "ename": "",
     "evalue": "125",
     "output_type": "error",
     "traceback": []
    }
   ],
   "source": [
    "podman run \\\n",
    "    -i \\\n",
    "    --userns=keep-id \\\n",
    "    --mount=type=bind,source=/workspace/quickwin/runs,target=/runs \\\n",
    "    --workdir=/runs \\\n",
    "    --read-only=true \\\n",
    "    --user=1001:100 \\\n",
    "    --rm \\\n",
    "    --env=HOME=/runs \\\n",
    "    --env=PYTHONPATH=/app \\\n",
    "    localhost/detect-water-body:latest \\\n",
    "    python \\\n",
    "    -m \\\n",
    "    app \\\n",
    "    --aoi \\\n",
    "    \"-121.399,39.834,-120.74,40.472\" \\\n",
    "    --band \\\n",
    "    green \\\n",
    "    --band \\\n",
    "    nir \\\n",
    "    --epsg \\\n",
    "    \"EPSG:4326\" \\\n",
    "    --input-item \\\n",
    "    https://earth-search.aws.element84.com/v0/collections/sentinel-s2-l2a-cogs/items/S2B_10TFK_20210713_0_L2A\n"
   ]
  },
  {
   "cell_type": "code",
   "execution_count": null,
   "metadata": {
    "vscode": {
     "languageId": "shellscript"
    }
   },
   "outputs": [],
   "source": []
  }
 ],
 "metadata": {
  "kernelspec": {
   "display_name": "Bash",
   "language": "bash",
   "name": "bash"
  },
  "language_info": {
   "codemirror_mode": "shell",
   "file_extension": ".sh",
   "mimetype": "text/x-sh",
   "name": "bash"
  }
 },
 "nbformat": 4,
 "nbformat_minor": 2
}
