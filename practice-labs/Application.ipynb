{
 "cells": [
  {
   "cell_type": "code",
   "execution_count": null,
   "metadata": {},
   "outputs": [],
   "source": []
  },
  {
   "cell_type": "markdown",
   "metadata": {},
   "source": [
    "# Lab: Application \n",
    "\n",
    "Detect water bodies using the Otsu threshold on the NDWI index from a satellite image acquired by Sentinel-2.\n",
    "\n",
    "This application takes as input Copernicus Sentinel-2 data and detects water bodies by applying the Otsu thresholding technique on the Normalized Difference Water Index (NDWI).\n",
    "\n",
    "Link to documentation: https://eoap.github.io/quickwin/python-env/water_bodies/"
   ]
  },
  {
   "cell_type": "markdown",
   "metadata": {},
   "source": [
    "## Application code\n",
    "\n"
   ]
  },
  {
   "cell_type": "markdown",
   "metadata": {},
   "source": [
    "The application requires a few libraries:"
   ]
  },
  {
   "cell_type": "code",
   "execution_count": null,
   "metadata": {},
   "outputs": [],
   "source": [
    "import os\n",
    "import click\n",
    "import pystac\n",
    "import rasterio\n",
    "from skimage.filters import threshold_otsu\n",
    "from rasterio.mask import mask\n",
    "from pyproj import Transformer\n",
    "from shapely import box\n",
    "from loguru import logger\n",
    "import rasterio\n",
    "import pystac\n",
    "import shutil\n",
    "import rio_stac\n",
    "import numpy as np\n"
   ]
  },
  {
   "cell_type": "markdown",
   "metadata": {},
   "source": [
    "Let's ignore the numpy warnings about divisions by zero:"
   ]
  },
  {
   "cell_type": "code",
   "execution_count": null,
   "metadata": {},
   "outputs": [],
   "source": [
    "\n",
    "np.seterr(divide=\"ignore\", invalid=\"ignore\")\n"
   ]
  },
  {
   "cell_type": "markdown",
   "metadata": {},
   "source": [
    "Let's define a crop function taking as argument:\n",
    "\n",
    "- a pystac `Asset` object\n",
    "- a bounding box\n",
    "- the EPSG code of the bounding box coordinates\n",
    "\n",
    "This function returns a numpy array."
   ]
  },
  {
   "cell_type": "code",
   "execution_count": null,
   "metadata": {},
   "outputs": [],
   "source": [
    "\n",
    "def crop(asset: pystac.Asset, bbox, epsg):\n",
    "    \"\"\"_summary_\n",
    "\n",
    "    Args:\n",
    "        asset (_type_): _description_\n",
    "        bbox (_type_): _description_\n",
    "        epsg (_type_): _description_\n",
    "\n",
    "    Returns:\n",
    "        _type_: _description_\n",
    "    \"\"\"\n",
    "    with rasterio.open(asset.get_absolute_href()) as src:\n",
    "\n",
    "        transformer = Transformer.from_crs(epsg, src.crs, always_xy=True)\n",
    "\n",
    "        minx, miny = transformer.transform(bbox[0], bbox[1])\n",
    "        maxx, maxy = transformer.transform(bbox[2], bbox[3])\n",
    "\n",
    "        transformed_bbox = box(minx, miny, maxx, maxy)\n",
    "\n",
    "        logger.info(f\"Crop {asset.get_absolute_href()}\")\n",
    "\n",
    "        out_image, out_transform = rasterio.mask.mask(\n",
    "            src, [transformed_bbox], crop=True\n",
    "        )\n",
    "        out_meta = src.meta.copy()\n",
    "\n",
    "        out_meta.update(\n",
    "            {\n",
    "                \"height\": out_image.shape[1],\n",
    "                \"width\": out_image.shape[2],\n",
    "                \"transform\": out_transform,\n",
    "            }\n",
    "        )\n",
    "\n",
    "        return out_image.astype(np.float32), out_meta\n"
   ]
  },
  {
   "cell_type": "markdown",
   "metadata": {},
   "source": [
    "Let's define a function to apply the Ostu automatic threshold taking as input a numpy array and producing a numpy array:"
   ]
  },
  {
   "cell_type": "code",
   "execution_count": null,
   "metadata": {},
   "outputs": [],
   "source": [
    "def threshold(data):\n",
    "    \"\"\"Returns the Otsu threshold of a numpy array\"\"\"\n",
    "    return data > threshold_otsu(data[np.isfinite(data)])"
   ]
  },
  {
   "cell_type": "markdown",
   "metadata": {},
   "source": [
    "Let's define a function to apply the normalized differences between two numpy arrays and produce a numpy array:"
   ]
  },
  {
   "cell_type": "code",
   "execution_count": null,
   "metadata": {},
   "outputs": [],
   "source": [
    "def normalized_difference(array1, array2):\n",
    "    \"\"\"Returns the normalized difference of two numpy arrays\"\"\"\n",
    "    return (array1 - array2) / (array1 + array2)"
   ]
  },
  {
   "cell_type": "markdown",
   "metadata": {},
   "source": [
    "Let's define a helper function to split a bounding box expressed as `\"min_x,min_y,max_x, max_y\"` and return a list of floats:"
   ]
  },
  {
   "cell_type": "code",
   "execution_count": null,
   "metadata": {},
   "outputs": [],
   "source": [
    "def aoi2box(aoi):\n",
    "    \"\"\"Converts an area of interest expressed as a bounding box to a list of floats\"\"\"\n",
    "    return [float(c) for c in aoi.split(\",\")]"
   ]
  },
  {
   "cell_type": "markdown",
   "metadata": {},
   "source": [
    "Let's define a function that takes a STAC Item and a common band name as input and returns the STAC Asset whose common band property matches the input value"
   ]
  },
  {
   "cell_type": "code",
   "execution_count": null,
   "metadata": {},
   "outputs": [],
   "source": [
    "def get_asset(item, common_name):\n",
    "    \"\"\"Returns the asset of a STAC Item defined with its common band name\"\"\"\n",
    "    for _, asset in item.get_assets().items():\n",
    "        if not \"data\" in asset.to_dict()[\"roles\"]:\n",
    "            continue\n",
    "\n",
    "        eo_asset = pystac.extensions.eo.AssetEOExtension(asset)\n",
    "        if not eo_asset.bands:\n",
    "            continue\n",
    "        for b in eo_asset.bands:\n",
    "            if (\n",
    "                \"common_name\" in b.properties.keys()\n",
    "                and b.properties[\"common_name\"] == common_name\n",
    "            ):\n",
    "                return asset"
   ]
  },
  {
   "cell_type": "markdown",
   "metadata": {},
   "source": [
    "Let's define a `main` function and use `click` to decorate it producing a command line tool interface.\\\n",
    "\n",
    "The `main` function reads a STAC item, and area of interest, the EPSG code used to express the bounding box coordinates and the list of common bands names for the normalized difference:"
   ]
  },
  {
   "cell_type": "code",
   "execution_count": null,
   "metadata": {},
   "outputs": [],
   "source": [
    "\n",
    "\n",
    "@click.command(\n",
    "    short_help=\"Water bodies detection\",\n",
    "    help=\"Detects water bodies using the Normalized Difference Water Index (NDWI) and Otsu thresholding.\",\n",
    ")\n",
    "@click.option(\n",
    "    \"--input-item\",\n",
    "    \"item_url\",\n",
    "    help=\"STAC Item URL or staged STAC catalog\",\n",
    "    required=True,\n",
    ")\n",
    "@click.option(\n",
    "    \"--aoi\",\n",
    "    \"aoi\",\n",
    "    help=\"Area of interest expressed as a bounding box\",\n",
    "    required=True,\n",
    ")\n",
    "@click.option(\n",
    "    \"--epsg\",\n",
    "    \"epsg\",\n",
    "    help=\"EPSG code\",\n",
    "    required=True,\n",
    ")\n",
    "@click.option(\n",
    "    \"--band\",\n",
    "    \"bands\",\n",
    "    help=\"Common band name\",\n",
    "    required=True,\n",
    "    multiple=True,\n",
    ")\n",
    "def main(item_url, aoi, bands, epsg):\n",
    "\n",
    "    if os.path.isdir(item_url):\n",
    "        catalog = pystac.read_file(os.path.join(item_url, \"catalog.json\"))\n",
    "        item = next(catalog.get_items())\n",
    "    else:\n",
    "        item = pystac.read_file(item_url)\n",
    "\n",
    "    logger.info(f\"Read {item.id} from {item.get_self_href()}\")\n",
    "\n",
    "    cropped_assets = {}\n",
    "\n",
    "    for band in bands:\n",
    "        asset = get_asset(item, band)\n",
    "        logger.info(f\"Read asset {band} from {asset.get_absolute_href()}\")\n",
    "\n",
    "        if not asset:\n",
    "            msg = f\"Common band name {band} not found in the assets\"\n",
    "            logger.error(msg)\n",
    "            raise ValueError(msg)\n",
    "\n",
    "        bbox = aoi2box(aoi)\n",
    "\n",
    "        out_image, out_meta = crop(asset, bbox, epsg)\n",
    "\n",
    "        cropped_assets[band] = out_image[0]\n",
    "\n",
    "    nd = normalized_difference(cropped_assets[bands[0]], cropped_assets[bands[1]])\n",
    "\n",
    "    water_bodies = threshold(nd)\n",
    "\n",
    "    out_meta.update(\n",
    "        {\n",
    "            \"dtype\": \"uint8\",\n",
    "            \"driver\": \"COG\",\n",
    "            \"tiled\": True,\n",
    "            \"compress\": \"lzw\",\n",
    "            \"blockxsize\": 256,\n",
    "            \"blockysize\": 256,\n",
    "        }\n",
    "    )\n",
    "\n",
    "    water_body = \"otsu.tif\"\n",
    "\n",
    "    with rasterio.open(water_body, \"w\", **out_meta) as dst_dataset:\n",
    "        logger.info(f\"Write otsu.tif\")\n",
    "        dst_dataset.write(water_bodies, indexes=1)\n",
    "\n",
    "    logger.info(f\"Creating a STAC Catalog\")\n",
    "    cat = pystac.Catalog(id=\"catalog\", description=\"water-bodies\")\n",
    "\n",
    "    if os.path.isdir(item_url):\n",
    "        catalog = pystac.read_file(os.path.join(item_url, \"catalog.json\"))\n",
    "        item = next(catalog.get_items())\n",
    "    else:\n",
    "        item = pystac.read_file(item_url)\n",
    "\n",
    "    os.makedirs(item.id, exist_ok=True)\n",
    "    shutil.copy(water_body, item.id)\n",
    "\n",
    "    out_item = rio_stac.stac.create_stac_item(\n",
    "        source=water_body,\n",
    "        input_datetime=item.datetime,\n",
    "        id=item.id,\n",
    "        asset_roles=[\"data\", \"visual\"],\n",
    "        asset_href=os.path.basename(water_body),\n",
    "        asset_name=\"data\",\n",
    "        with_proj=True,\n",
    "        with_raster=False,\n",
    "    )\n",
    "\n",
    "    cat.add_items([out_item])\n",
    "\n",
    "    cat.normalize_and_save(\n",
    "        root_href=\"./\", catalog_type=pystac.CatalogType.SELF_CONTAINED\n",
    "    )\n",
    "\n",
    "    logger.info(\"Done!\")"
   ]
  },
  {
   "cell_type": "markdown",
   "metadata": {},
   "source": [
    "The `main` function is a command line tool that takes a few input parameters. \n",
    "\n",
    "The help can be printed with:"
   ]
  },
  {
   "cell_type": "code",
   "execution_count": null,
   "metadata": {},
   "outputs": [],
   "source": [
    "from click.testing import CliRunner\n",
    "\n",
    "runner = CliRunner()\n",
    "result = runner.invoke(main, ['--help'])\n",
    "\n",
    "print(result.output)"
   ]
  },
  {
   "cell_type": "markdown",
   "metadata": {},
   "source": [
    "This command line tool can be invoked with:"
   ]
  },
  {
   "cell_type": "code",
   "execution_count": null,
   "metadata": {},
   "outputs": [],
   "source": [
    "arguments = [\"--input-item\", \"https://earth-search.aws.element84.com/v0/collections/sentinel-s2-l2a-cogs/items/S2B_10TFK_20210713_0_L2A\",\n",
    "            \"--aoi\", \"-121.399,39.834,-120.74,40.472\",\n",
    "            \"--epsg\", \"EPSG:4326\",\n",
    "            \"--band\", \"green\",\n",
    "            \"--band\", \"nir\"]\n",
    "\n",
    "runner = CliRunner()\n",
    "result = runner.invoke(main, args=arguments)\n",
    "\n",
    "print(result.output)"
   ]
  },
  {
   "cell_type": "markdown",
   "metadata": {},
   "source": [
    "The application generated a STAC Catalog that can be read:"
   ]
  },
  {
   "cell_type": "code",
   "execution_count": null,
   "metadata": {},
   "outputs": [],
   "source": [
    "cat = pystac.read_file(\"catalog.json\")\n",
    "\n",
    "cat.describe()"
   ]
  },
  {
   "cell_type": "code",
   "execution_count": null,
   "metadata": {},
   "outputs": [],
   "source": [
    "item = next(cat.get_items())\n",
    "\n",
    "item"
   ]
  },
  {
   "cell_type": "code",
   "execution_count": null,
   "metadata": {},
   "outputs": [],
   "source": []
  }
 ],
 "metadata": {
  "kernelspec": {
   "display_name": "env_water_bodies",
   "language": "python",
   "name": "python3"
  },
  "language_info": {
   "codemirror_mode": {
    "name": "ipython",
    "version": 3
   },
   "file_extension": ".py",
   "mimetype": "text/x-python",
   "name": "python",
   "nbconvert_exporter": "python",
   "pygments_lexer": "ipython3",
   "version": "3.10.12"
  }
 },
 "nbformat": 4,
 "nbformat_minor": 2
}
