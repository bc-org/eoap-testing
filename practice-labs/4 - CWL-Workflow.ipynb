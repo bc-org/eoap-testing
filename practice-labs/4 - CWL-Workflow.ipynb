{
 "cells": [
  {
   "cell_type": "markdown",
   "metadata": {},
   "source": [
    "# CWL Execution - *Workflow* Class \n",
    "\n",
    "link to documentation: https://eoap.github.io/quickwin/cwl-workflow/cloud-native/\n",
    "\n",
    "## CWL Inspection\n",
    "Add the `Workflow` Class on top of the `CommandLineTool` Class, in order to build up the full Application workflow"
   ]
  },
  {
   "cell_type": "markdown",
   "metadata": {},
   "source": []
  },
  {
   "cell_type": "code",
   "execution_count": null,
   "metadata": {
    "vscode": {
     "languageId": "shellscript"
    }
   },
   "outputs": [],
   "source": [
    "cat ../cwl-workflow/app-water-body-cloud-native.cwl | yq e . -"
   ]
  },
  {
   "cell_type": "markdown",
   "metadata": {},
   "source": [
    "There's a new element `$graph`, it's there to list all classes of the CWL document. In our case, one `Workflow` and one `CommandLineTool`:"
   ]
  },
  {
   "cell_type": "code",
   "execution_count": null,
   "metadata": {
    "vscode": {
     "languageId": "shellscript"
    }
   },
   "outputs": [],
   "source": [
    "cat ../cwl-workflow/app-water-body-cloud-native.cwl | yq e .'$graph[].class' - "
   ]
  },
  {
   "cell_type": "markdown",
   "metadata": {},
   "source": [
    "Let's inspect the `Workflow` element keys:"
   ]
  },
  {
   "cell_type": "code",
   "execution_count": null,
   "metadata": {
    "vscode": {
     "languageId": "shellscript"
    }
   },
   "outputs": [],
   "source": [
    "cat ../cwl-workflow/app-water-body-cloud-native.cwl | yq e .'$graph[0] | keys' - "
   ]
  },
  {
   "cell_type": "markdown",
   "metadata": {},
   "source": [
    "The Workflow must have an `id`, a `label` and a `doc`:"
   ]
  },
  {
   "cell_type": "code",
   "execution_count": null,
   "metadata": {
    "vscode": {
     "languageId": "shellscript"
    }
   },
   "outputs": [],
   "source": [
    "cat ../cwl-workflow/app-water-body-cloud-native.cwl | yq e .'$graph[0] | {\"id\": .id, \"label\": .label, \"doc\": .doc }' - "
   ]
  },
  {
   "cell_type": "markdown",
   "metadata": {},
   "source": [
    "The `inputs` mapping defines all the workflow inputs. \n",
    "\n",
    "These are then mapped to the CommandLineTool in the `step` mapping"
   ]
  },
  {
   "cell_type": "code",
   "execution_count": null,
   "metadata": {
    "vscode": {
     "languageId": "shellscript"
    }
   },
   "outputs": [],
   "source": [
    "cat ../cwl-workflow/app-water-body-cloud-native.cwl | yq e .'$graph[0].inputs' - "
   ]
  },
  {
   "cell_type": "markdown",
   "metadata": {},
   "source": [
    "The `steps` mapping defines a single step `node_detect` that runs the CWL element with id `detect-water-body`"
   ]
  },
  {
   "cell_type": "code",
   "execution_count": null,
   "metadata": {
    "vscode": {
     "languageId": "shellscript"
    }
   },
   "outputs": [],
   "source": [
    "cat ../cwl-workflow/app-water-body-cloud-native.cwl | yq e .'$graph[0].steps' - "
   ]
  },
  {
   "cell_type": "code",
   "execution_count": null,
   "metadata": {
    "vscode": {
     "languageId": "shellscript"
    }
   },
   "outputs": [],
   "source": [
    "cat ../cwl-workflow/app-water-body-cloud-native.cwl | yq e .'$graph[0].steps.node_detect.run' - "
   ]
  },
  {
   "cell_type": "markdown",
   "metadata": {},
   "source": [
    "The mapping between the Workflow class inputs and the CommandLineTool inputs is done in the `in` dictionary: "
   ]
  },
  {
   "cell_type": "code",
   "execution_count": null,
   "metadata": {
    "vscode": {
     "languageId": "shellscript"
    }
   },
   "outputs": [],
   "source": [
    "cat ../cwl-workflow/app-water-body-cloud-native.cwl | yq e .'$graph[0].steps.node_detect.in' - "
   ]
  },
  {
   "cell_type": "markdown",
   "metadata": {},
   "source": [
    "Finally the outputs are defined with:\n",
    "\n",
    "- an `id` \n",
    "- an `outputSource` that is linked to the CommandLineTool output\n",
    "- a `type`, the same as the CommandLineTool output type"
   ]
  },
  {
   "cell_type": "code",
   "execution_count": null,
   "metadata": {
    "vscode": {
     "languageId": "shellscript"
    }
   },
   "outputs": [],
   "source": [
    "cat ../cwl-workflow/app-water-body-cloud-native.cwl | yq e .'$graph[0].outputs' - "
   ]
  },
  {
   "cell_type": "code",
   "execution_count": null,
   "metadata": {
    "vscode": {
     "languageId": "shellscript"
    }
   },
   "outputs": [],
   "source": [
    "cat ../cwl-workflow/app-water-body-cloud-native.cwl | yq e .'$graph[1].outputs' - "
   ]
  },
  {
   "cell_type": "code",
   "execution_count": null,
   "metadata": {
    "vscode": {
     "languageId": "shellscript"
    }
   },
   "outputs": [],
   "source": [
    "cat ../cwl-workflow/app-water-body-cloud-native.cwl | yq e .'$graph[1].outputs.stac-catalog.type' - "
   ]
  },
  {
   "cell_type": "code",
   "execution_count": null,
   "metadata": {
    "vscode": {
     "languageId": "shellscript"
    }
   },
   "outputs": [],
   "source": []
  },
  {
   "cell_type": "markdown",
   "metadata": {},
   "source": [
    "## CWL Execution\n",
    "\n",
    "Let's use a CWL runner to run this CWL document.\n",
    "\n",
    "First create the `params.yaml` file:\n"
   ]
  },
  {
   "cell_type": "code",
   "execution_count": 1,
   "metadata": {
    "vscode": {
     "languageId": "shellscript"
    }
   },
   "outputs": [],
   "source": [
    "cat << EOF > params.yaml\n",
    "item: https://earth-search.aws.element84.com/v0/collections/sentinel-s2-l2a-cogs/items/S2B_10TFK_20210713_0_L2A\n",
    "aoi: \"-121.399,39.834,-120.74,40.472\"\n",
    "epsg: \"EPSG:4326\"\n",
    "band: \n",
    "- green\n",
    "- nir\n",
    "EOF"
   ]
  },
  {
   "cell_type": "markdown",
   "metadata": {},
   "source": [
    "Then use the `cwltool` to run the CWL document with the parameters:"
   ]
  },
  {
   "cell_type": "code",
   "execution_count": 4,
   "metadata": {
    "vscode": {
     "languageId": "shellscript"
    }
   },
   "outputs": [
    {
     "name": "stdout",
     "output_type": "stream",
     "text": [
      "\u001b[1;30mINFO\u001b[0m /Users/simonevaccari/miniconda3/bin/cwltool 3.1.20210628163208\n",
      "\u001b[1;30mINFO\u001b[0m Resolved '../cwl-workflow/app-water-body-cloud-native.cwl' to 'file:///Users/simonevaccari/Documents/repos/eoap/quickwin/cwl-workflow/app-water-body-cloud-native.cwl'\n",
      "\u001b[1;30mINFO\u001b[0m [workflow ] start\n",
      "\u001b[1;30mINFO\u001b[0m [workflow ] starting step node_detect\n",
      "\u001b[1;30mINFO\u001b[0m [step node_detect] start\n",
      "\u001b[1;30mINFO\u001b[0m ['docker', 'pull', 'ghcr.io/eoap/quickwin/detect-water-body:1.0.0']\n",
      "1.0.0: Pulling from eoap/quickwin/detect-water-body\n",
      "\n",
      "\u001b[1B3ee49805: Pulling fs layer \n",
      "\u001b[1B0daa4c1f: Pulling fs layer \n",
      "\u001b[1B269b22c3: Pulling fs layer \n",
      "\u001b[1B580aad05: Pulling fs layer \n",
      "\u001b[1B87594817: Pulling fs layer \n",
      "\u001b[1BDigest: sha256:56eb456782a609d3dc861789e1108fb0e363462e5c1612d51da47b693931c6b1\n",
      "Status: Downloaded newer image for ghcr.io/eoap/quickwin/detect-water-body:1.0.0\n",
      "ghcr.io/eoap/quickwin/detect-water-body:1.0.0\n",
      "\u001b[1;30mWARNING\u001b[0m \u001b[33m[job node_detect] Skipping Docker software container '--memory' limit despite presence of ResourceRequirement with ramMin and/or ramMax setting. Consider running with --strict-memory-limit for increased portability assurance.\u001b[0m\n",
      "\u001b[1;30mINFO\u001b[0m [job node_detect] /private/tmp/docker_tmphdu4ndiz$ docker \\\n",
      "    run \\\n",
      "    -i \\\n",
      "    --mount=type=bind,source=/private/tmp/docker_tmphdu4ndiz,target=/ShmqNU \\\n",
      "    --mount=type=bind,source=/private/tmp/docker_tmpovv7k1j0,target=/tmp \\\n",
      "    --workdir=/ShmqNU \\\n",
      "    --read-only=true \\\n",
      "    --user=501:20 \\\n",
      "    --rm \\\n",
      "    --cidfile=/private/tmp/docker_tmpddbryybd/20241008121851-877792.cid \\\n",
      "    --env=TMPDIR=/tmp \\\n",
      "    --env=HOME=/ShmqNU \\\n",
      "    --env=PYTHONPATH=/app \\\n",
      "    ghcr.io/eoap/quickwin/detect-water-body:1.0.0 \\\n",
      "    python \\\n",
      "    -m \\\n",
      "    app \\\n",
      "    --band \\\n",
      "    green \\\n",
      "    --aoi \\\n",
      "    -121.399,39.834,-120.74,40.472 \\\n",
      "    --epsg \\\n",
      "    EPSG:4326 \\\n",
      "    --input-item \\\n",
      "    https://earth-search.aws.element84.com/v0/collections/sentinel-s2-l2a-cogs/items/S2B_10TFK_20210713_0_L2A \\\n",
      "    --band \\\n",
      "    nir\n",
      "2024-10-08 10:18:55.634 | INFO     | __main__:main:124 - Read S2B_10TFK_20210713_0_L2A from https://earth-search.aws.element84.com/v0/collections/sentinel-s2-l2a-cogs/items/S2B_10TFK_20210713_0_L2A\n",
      "2024-10-08 10:18:55.666 | INFO     | __main__:main:130 - Read asset green from https://sentinel-cogs.s3.us-west-2.amazonaws.com/sentinel-s2-l2a-cogs/10/T/FK/2021/7/S2B_10TFK_20210713_0_L2A/B03.tif\n",
      "2024-10-08 10:18:58.431 | INFO     | __main__:crop:38 - Crop https://sentinel-cogs.s3.us-west-2.amazonaws.com/sentinel-s2-l2a-cogs/10/T/FK/2021/7/S2B_10TFK_20210713_0_L2A/B03.tif\n",
      "2024-10-08 10:19:46.063 | INFO     | __main__:main:130 - Read asset nir from https://sentinel-cogs.s3.us-west-2.amazonaws.com/sentinel-s2-l2a-cogs/10/T/FK/2021/7/S2B_10TFK_20210713_0_L2A/B08.tif\n",
      "2024-10-08 10:19:48.015 | INFO     | __main__:crop:38 - Crop https://sentinel-cogs.s3.us-west-2.amazonaws.com/sentinel-s2-l2a-cogs/10/T/FK/2021/7/S2B_10TFK_20210713_0_L2A/B08.tif\n",
      "2024-10-08 10:20:47.931 | INFO     | __main__:main:161 - Write otsu.tif\n",
      "2024-10-08 10:20:50.323 | INFO     | __main__:main:164 - Creating a STAC Catalog\n",
      "2024-10-08 10:20:51.079 | INFO     | __main__:main:193 - Done!\n",
      "\u001b[1;30mINFO\u001b[0m [job node_detect] Max memory used: 0MiB\n",
      "\u001b[1;30mINFO\u001b[0m [job node_detect] completed success\n",
      "\u001b[1;30mINFO\u001b[0m [step node_detect] completed success\n",
      "\u001b[1;30mINFO\u001b[0m [workflow ] completed success\n",
      "\u001b[1;30mINFO\u001b[0m Final process status is success\n"
     ]
    }
   ],
   "source": [
    "cwltool ../cwl-workflow/app-water-body-cloud-native.cwl params.yaml > output.json"
   ]
  },
  {
   "cell_type": "markdown",
   "metadata": {},
   "source": [
    "Inspect the `output.json` file keys:"
   ]
  },
  {
   "cell_type": "code",
   "execution_count": null,
   "metadata": {
    "vscode": {
     "languageId": "shellscript"
    }
   },
   "outputs": [],
   "source": [
    "cat output.json | yq e '. | keys' - "
   ]
  },
  {
   "cell_type": "markdown",
   "metadata": {},
   "source": [
    "Now get the root folder of the results:"
   ]
  },
  {
   "cell_type": "code",
   "execution_count": null,
   "metadata": {
    "vscode": {
     "languageId": "shellscript"
    }
   },
   "outputs": [],
   "source": [
    "cat output.json | yq e '.stac_catalog.location' -"
   ]
  },
  {
   "cell_type": "markdown",
   "metadata": {},
   "source": [
    "We know there's a catalog.json file there:\n"
   ]
  },
  {
   "cell_type": "code",
   "execution_count": null,
   "metadata": {
    "vscode": {
     "languageId": "shellscript"
    }
   },
   "outputs": [],
   "source": [
    "stac describe $( cat output.json | yq e '.stac_catalog.location' - | sed 's|file://||g' )/catalog.json"
   ]
  }
 ],
 "metadata": {
  "kernelspec": {
   "display_name": "Bash",
   "language": "bash",
   "name": "bash"
  },
  "language_info": {
   "codemirror_mode": "shell",
   "file_extension": ".sh",
   "mimetype": "text/x-sh",
   "name": "bash"
  }
 },
 "nbformat": 4,
 "nbformat_minor": 2
}
